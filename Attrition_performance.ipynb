{
 "cells": [
  {
   "cell_type": "code",
   "execution_count": 72,
   "id": "julian-ambassador",
   "metadata": {},
   "outputs": [],
   "source": [
    "from pycaret.classification import * # Preprocessing, modelling, interpretation, deployment...\n",
    "import pandas as pd # Basic data manipulation\n",
    "from sklearn.model_selection import train_test_split # Data split\n",
    "from sdv.tabular import CopulaGAN, GaussianCopula, CTGAN, TVAE # Synthetic data\n",
    "from sdv.evaluation import evaluate # Evaluate synthetic data\n",
    "import sdmetrics"
   ]
  },
  {
   "cell_type": "code",
   "execution_count": 73,
   "id": "overall-slide",
   "metadata": {},
   "outputs": [
    {
     "name": "stdout",
     "output_type": "stream",
     "text": [
      "0.23.2\n"
     ]
    }
   ],
   "source": [
    "import sklearn\n",
    "print(sklearn.__version__)"
   ]
  },
  {
   "cell_type": "code",
   "execution_count": 74,
   "id": "temporal-arrow",
   "metadata": {},
   "outputs": [
    {
     "data": {
      "text/html": [
       "<div>\n",
       "<style scoped>\n",
       "    .dataframe tbody tr th:only-of-type {\n",
       "        vertical-align: middle;\n",
       "    }\n",
       "\n",
       "    .dataframe tbody tr th {\n",
       "        vertical-align: top;\n",
       "    }\n",
       "\n",
       "    .dataframe thead th {\n",
       "        text-align: right;\n",
       "    }\n",
       "</style>\n",
       "<table border=\"1\" class=\"dataframe\">\n",
       "  <thead>\n",
       "    <tr style=\"text-align: right;\">\n",
       "      <th></th>\n",
       "      <th>Age</th>\n",
       "      <th>Attrition</th>\n",
       "      <th>BusinessTravel</th>\n",
       "      <th>DailyRate</th>\n",
       "      <th>Department</th>\n",
       "      <th>DistanceFromHome</th>\n",
       "      <th>Education</th>\n",
       "      <th>EducationField</th>\n",
       "      <th>EmployeeCount</th>\n",
       "      <th>EmployeeNumber</th>\n",
       "      <th>...</th>\n",
       "      <th>RelationshipSatisfaction</th>\n",
       "      <th>StandardHours</th>\n",
       "      <th>StockOptionLevel</th>\n",
       "      <th>TotalWorkingYears</th>\n",
       "      <th>TrainingTimesLastYear</th>\n",
       "      <th>WorkLifeBalance</th>\n",
       "      <th>YearsAtCompany</th>\n",
       "      <th>YearsInCurrentRole</th>\n",
       "      <th>YearsSinceLastPromotion</th>\n",
       "      <th>YearsWithCurrManager</th>\n",
       "    </tr>\n",
       "  </thead>\n",
       "  <tbody>\n",
       "    <tr>\n",
       "      <th>0</th>\n",
       "      <td>41</td>\n",
       "      <td>Yes</td>\n",
       "      <td>Travel_Rarely</td>\n",
       "      <td>1102</td>\n",
       "      <td>Sales</td>\n",
       "      <td>1</td>\n",
       "      <td>2</td>\n",
       "      <td>Life Sciences</td>\n",
       "      <td>1</td>\n",
       "      <td>1</td>\n",
       "      <td>...</td>\n",
       "      <td>1</td>\n",
       "      <td>80</td>\n",
       "      <td>0</td>\n",
       "      <td>8</td>\n",
       "      <td>0</td>\n",
       "      <td>1</td>\n",
       "      <td>6</td>\n",
       "      <td>4</td>\n",
       "      <td>0</td>\n",
       "      <td>5</td>\n",
       "    </tr>\n",
       "    <tr>\n",
       "      <th>1</th>\n",
       "      <td>49</td>\n",
       "      <td>No</td>\n",
       "      <td>Travel_Frequently</td>\n",
       "      <td>279</td>\n",
       "      <td>Research &amp; Development</td>\n",
       "      <td>8</td>\n",
       "      <td>1</td>\n",
       "      <td>Life Sciences</td>\n",
       "      <td>1</td>\n",
       "      <td>2</td>\n",
       "      <td>...</td>\n",
       "      <td>4</td>\n",
       "      <td>80</td>\n",
       "      <td>1</td>\n",
       "      <td>10</td>\n",
       "      <td>3</td>\n",
       "      <td>3</td>\n",
       "      <td>10</td>\n",
       "      <td>7</td>\n",
       "      <td>1</td>\n",
       "      <td>7</td>\n",
       "    </tr>\n",
       "    <tr>\n",
       "      <th>2</th>\n",
       "      <td>37</td>\n",
       "      <td>Yes</td>\n",
       "      <td>Travel_Rarely</td>\n",
       "      <td>1373</td>\n",
       "      <td>Research &amp; Development</td>\n",
       "      <td>2</td>\n",
       "      <td>2</td>\n",
       "      <td>Other</td>\n",
       "      <td>1</td>\n",
       "      <td>4</td>\n",
       "      <td>...</td>\n",
       "      <td>2</td>\n",
       "      <td>80</td>\n",
       "      <td>0</td>\n",
       "      <td>7</td>\n",
       "      <td>3</td>\n",
       "      <td>3</td>\n",
       "      <td>0</td>\n",
       "      <td>0</td>\n",
       "      <td>0</td>\n",
       "      <td>0</td>\n",
       "    </tr>\n",
       "    <tr>\n",
       "      <th>3</th>\n",
       "      <td>33</td>\n",
       "      <td>No</td>\n",
       "      <td>Travel_Frequently</td>\n",
       "      <td>1392</td>\n",
       "      <td>Research &amp; Development</td>\n",
       "      <td>3</td>\n",
       "      <td>4</td>\n",
       "      <td>Life Sciences</td>\n",
       "      <td>1</td>\n",
       "      <td>5</td>\n",
       "      <td>...</td>\n",
       "      <td>3</td>\n",
       "      <td>80</td>\n",
       "      <td>0</td>\n",
       "      <td>8</td>\n",
       "      <td>3</td>\n",
       "      <td>3</td>\n",
       "      <td>8</td>\n",
       "      <td>7</td>\n",
       "      <td>3</td>\n",
       "      <td>0</td>\n",
       "    </tr>\n",
       "    <tr>\n",
       "      <th>4</th>\n",
       "      <td>27</td>\n",
       "      <td>No</td>\n",
       "      <td>Travel_Rarely</td>\n",
       "      <td>591</td>\n",
       "      <td>Research &amp; Development</td>\n",
       "      <td>2</td>\n",
       "      <td>1</td>\n",
       "      <td>Medical</td>\n",
       "      <td>1</td>\n",
       "      <td>7</td>\n",
       "      <td>...</td>\n",
       "      <td>4</td>\n",
       "      <td>80</td>\n",
       "      <td>1</td>\n",
       "      <td>6</td>\n",
       "      <td>3</td>\n",
       "      <td>3</td>\n",
       "      <td>2</td>\n",
       "      <td>2</td>\n",
       "      <td>2</td>\n",
       "      <td>2</td>\n",
       "    </tr>\n",
       "  </tbody>\n",
       "</table>\n",
       "<p>5 rows × 35 columns</p>\n",
       "</div>"
      ],
      "text/plain": [
       "   Age Attrition     BusinessTravel  DailyRate              Department  \\\n",
       "0   41       Yes      Travel_Rarely       1102                   Sales   \n",
       "1   49        No  Travel_Frequently        279  Research & Development   \n",
       "2   37       Yes      Travel_Rarely       1373  Research & Development   \n",
       "3   33        No  Travel_Frequently       1392  Research & Development   \n",
       "4   27        No      Travel_Rarely        591  Research & Development   \n",
       "\n",
       "   DistanceFromHome  Education EducationField  EmployeeCount  EmployeeNumber  \\\n",
       "0                 1          2  Life Sciences              1               1   \n",
       "1                 8          1  Life Sciences              1               2   \n",
       "2                 2          2          Other              1               4   \n",
       "3                 3          4  Life Sciences              1               5   \n",
       "4                 2          1        Medical              1               7   \n",
       "\n",
       "   ...  RelationshipSatisfaction StandardHours  StockOptionLevel  \\\n",
       "0  ...                         1            80                 0   \n",
       "1  ...                         4            80                 1   \n",
       "2  ...                         2            80                 0   \n",
       "3  ...                         3            80                 0   \n",
       "4  ...                         4            80                 1   \n",
       "\n",
       "   TotalWorkingYears  TrainingTimesLastYear WorkLifeBalance  YearsAtCompany  \\\n",
       "0                  8                      0               1               6   \n",
       "1                 10                      3               3              10   \n",
       "2                  7                      3               3               0   \n",
       "3                  8                      3               3               8   \n",
       "4                  6                      3               3               2   \n",
       "\n",
       "  YearsInCurrentRole  YearsSinceLastPromotion  YearsWithCurrManager  \n",
       "0                  4                        0                     5  \n",
       "1                  7                        1                     7  \n",
       "2                  0                        0                     0  \n",
       "3                  7                        3                     0  \n",
       "4                  2                        2                     2  \n",
       "\n",
       "[5 rows x 35 columns]"
      ]
     },
     "execution_count": 74,
     "metadata": {},
     "output_type": "execute_result"
    }
   ],
   "source": [
    "original_data = pd.read_csv(\"HR Employee Attrition.csv\")\n",
    "original_data.head()"
   ]
  },
  {
   "cell_type": "code",
   "execution_count": 75,
   "id": "brief-sewing",
   "metadata": {},
   "outputs": [],
   "source": [
    "# Split real data into training + test set\n",
    "train, test, target_train, target_test = train_test_split(original_data.drop(\"Attrition\", axis = 1), original_data[\"Attrition\"], test_size = 0.4, random_state = 42)\n",
    "train[\"Attrition\"] = target_train\n",
    "test[\"Attrition\"] = target_test"
   ]
  },
  {
   "cell_type": "code",
   "execution_count": 76,
   "id": "activated-first",
   "metadata": {},
   "outputs": [
    {
     "name": "stdout",
     "output_type": "stream",
     "text": [
      "5460\n",
      "25410\n",
      "19950\n"
     ]
    }
   ],
   "source": [
    "attrition_yes_size = train[train[\"Attrition\"]==\"Yes\"].size\n",
    "attrition_no_size = train[train[\"Attrition\"]==\"No\"].size\n",
    "\n",
    "print(attrition_yes_size)\n",
    "print(attrition_no_size)\n",
    "attrition_imbalance = attrition_no_size - attrition_yes_size\n",
    "print(attrition_imbalance)"
   ]
  },
  {
   "cell_type": "code",
   "execution_count": 77,
   "id": "inner-hearts",
   "metadata": {},
   "outputs": [],
   "source": [
    "# Target feature\n",
    "target = \"Attrition\"\n",
    "\n",
    "# Continuous/numeric features\n",
    "cont_feats = [\"DistanceFromHome\", \"HourlyRate\",  \"DailyRate\", \"MonthlyIncome\",\n",
    "              \"MonthlyRate\", \"NumCompaniesWorked\", \"PercentSalaryHike\",\n",
    "              \"TotalWorkingYears\", \"YearsAtCompany\", \"YearsInCurrentRole\",\n",
    "              \"YearsWithCurrManager\", \"TrainingTimesLastYear\", \"YearsSinceLastPromotion\"]\n",
    "\n",
    "# Ordinal features\n",
    "ord_feats = {\"StockOptionLevel\" : [\"0\", \"1\", \"2\", \"3\"],\n",
    "             \"EnvironmentSatisfaction\" : [\"1\", \"2\", \"3\", \"4\"],\n",
    "             \"JobInvolvement\" : [\"1\", \"2\", \"3\", \"4\"],\n",
    "             \"JobSatisfaction\" : [\"1\", \"2\", \"3\", \"4\"],\n",
    "             \"Education\" : [\"1\", \"2\", \"3\", \"4\", \"5\"],\n",
    "             \"PerformanceRating\" : [\"3\", \"4\"],\n",
    "             \"RelationshipSatisfaction\" : [\"1\", \"2\", \"3\", \"4\"],\n",
    "             \"WorkLifeBalance\" : [\"1\", \"2\", \"3\", \"4\"]}\n",
    "\n",
    "# Categorical geatures\n",
    "cat_feats = [\"BusinessTravel\", \"Department\", \"EducationField\", \n",
    "             \"JobRole\", \"Gender\", \"JobLevel\", \"JobRole\", \n",
    "             \"MaritalStatus\", \"OverTime\", \"WorkLifeBalance\"]\n",
    "\n",
    "# Features to ignore\n",
    "ignore = [\"EmployeeNumber\", \"StandardHours\", \"EmployeeCount\", \"Over18\"]\n",
    "\n",
    "generator_categorical_feats = cat_feats + ord_feats.keys()\n",
    "generator_cont_feats"
   ]
  },
  {
   "cell_type": "code",
   "execution_count": 78,
   "id": "alien-somerset",
   "metadata": {},
   "outputs": [
    {
     "name": "stdout",
     "output_type": "stream",
     "text": [
      "setup complete!\n"
     ]
    }
   ],
   "source": [
    "def classifier_setup(synth_data):\n",
    "    data = train.copy().append(synth_data)\n",
    "    setup(data.sample(frac=1), \n",
    "      target = target, \n",
    "      test_data = test,\n",
    "      fold_strategy = \"kfold\",\n",
    "      numeric_features = cont_feats,\n",
    "      categorical_features = cat_feats,\n",
    "      ordinal_features = ord_feats,\n",
    "      ignore_features = ignore,\n",
    "      normalize = True,\n",
    "      normalize_method = \"zscore\",\n",
    "      silent = True, verbose = False)\n",
    "print(\"setup complete!\")"
   ]
  },
  {
   "cell_type": "code",
   "execution_count": 79,
   "id": "coupled-wheel",
   "metadata": {},
   "outputs": [],
   "source": [
    "models = [CopulaGAN, GaussianCopula, CTGAN, TVAE]\n",
    "sample_sizes = [0, 500, 1000, 10_000, 19_950, 30_000, 40_000]\n",
    "metric_classes = sdmetrics.single_table.SingleTableMetric.get_subclasses()\n",
    "classifiers = ['lr','knn','nb','dt','svm','rbfsvm','gpc','mlp','ridge','rf','qda','ada','gbc','lda','et','xgboost','lightgbm','catboost']\n",
    "performance = [\"f1\",\"accuracy\", \"recall\", \"precision\"]\n"
   ]
  },
  {
   "cell_type": "code",
   "execution_count": 80,
   "id": "forty-perry",
   "metadata": {},
   "outputs": [
    {
     "data": {
      "text/html": [
       "<div>\n",
       "<style scoped>\n",
       "    .dataframe tbody tr th:only-of-type {\n",
       "        vertical-align: middle;\n",
       "    }\n",
       "\n",
       "    .dataframe tbody tr th {\n",
       "        vertical-align: top;\n",
       "    }\n",
       "\n",
       "    .dataframe thead th {\n",
       "        text-align: right;\n",
       "    }\n",
       "</style>\n",
       "<table border=\"1\" class=\"dataframe\">\n",
       "  <thead>\n",
       "    <tr style=\"text-align: right;\">\n",
       "      <th></th>\n",
       "      <th>model_name</th>\n",
       "      <th>sample_size</th>\n",
       "      <th>BNLogLikelihood</th>\n",
       "      <th>LogisticDetection</th>\n",
       "      <th>SVCDetection</th>\n",
       "      <th>BinaryDecisionTreeClassifier</th>\n",
       "      <th>BinaryAdaBoostClassifier</th>\n",
       "      <th>BinaryLogisticRegression</th>\n",
       "      <th>BinaryMLPClassifier</th>\n",
       "      <th>MulticlassDecisionTreeClassifier</th>\n",
       "      <th>...</th>\n",
       "      <th>CSTest</th>\n",
       "      <th>KSTest</th>\n",
       "      <th>KSTestExtended</th>\n",
       "      <th>ContinuousKLDivergence</th>\n",
       "      <th>DiscreteKLDivergence</th>\n",
       "      <th>classifier_name</th>\n",
       "      <th>f1</th>\n",
       "      <th>accuracy</th>\n",
       "      <th>recall</th>\n",
       "      <th>precision</th>\n",
       "    </tr>\n",
       "  </thead>\n",
       "  <tbody>\n",
       "  </tbody>\n",
       "</table>\n",
       "<p>0 rows × 24 columns</p>\n",
       "</div>"
      ],
      "text/plain": [
       "Empty DataFrame\n",
       "Columns: [model_name, sample_size, BNLogLikelihood, LogisticDetection, SVCDetection, BinaryDecisionTreeClassifier, BinaryAdaBoostClassifier, BinaryLogisticRegression, BinaryMLPClassifier, MulticlassDecisionTreeClassifier, MulticlassMLPClassifier, LinearRegression, MLPRegressor, GMLogLikelihood, CSTest, KSTest, KSTestExtended, ContinuousKLDivergence, DiscreteKLDivergence, classifier_name, f1, accuracy, recall, precision]\n",
       "Index: []\n",
       "\n",
       "[0 rows x 24 columns]"
      ]
     },
     "execution_count": 80,
     "metadata": {},
     "output_type": "execute_result"
    }
   ],
   "source": [
    "model_name = [\"model_name\"]\n",
    "sample_size_name = [\"sample_size\"]\n",
    "metric_class_names = [str(metric_name) for metric_name in metric_classes]\n",
    "classifier_name = [\"classifier_name\"]\n",
    "performance_names = [\"f1\",\"accuracy\", \"recall\", \"precision\"]\n",
    "columns = model_name + sample_size_name + metric_class_names + classifier_name + performance_names\n",
    "results = pd.DataFrame(columns=columns)\n",
    "results"
   ]
  },
  {
   "cell_type": "code",
   "execution_count": 81,
   "id": "unlimited-issue",
   "metadata": {},
   "outputs": [],
   "source": [
    "def make_score_column(score_aggregate):\n",
    "    score_column = []\n",
    "    for metric in metric_class_names:\n",
    "        if metric in set(score_aggregate[\"metric\"]):\n",
    "            score = list(score_aggregate.loc[score_aggregate['metric'] == metric,\"score\"])[0]\n",
    "            score_column.append(score)\n",
    "        else:\n",
    "            score_column.append(None)\n",
    "    return score_column"
   ]
  },
  {
   "cell_type": "code",
   "execution_count": 82,
   "id": "better-broadcast",
   "metadata": {},
   "outputs": [],
   "source": [
    "def make_CopulaGAN(data):\n",
    "    model = CopulaGAN()\n",
    "    model.fit(data)\n",
    "    return model\n",
    "def make_GaussianCopula(data):\n",
    "    model = GaussianCopula()\n",
    "    model.fit(data)\n",
    "    return model\n",
    "def make_CTGAN(data):\n",
    "    model = CTGAN()\n",
    "    model.fit(data)\n",
    "    return model\n",
    "def make_TVAE(data):\n",
    "    model = TVAE()\n",
    "    model.fit(data)\n",
    "    return model"
   ]
  },
  {
   "cell_type": "code",
   "execution_count": 83,
   "id": "saving-belarus",
   "metadata": {},
   "outputs": [
    {
     "ename": "KeyboardInterrupt",
     "evalue": "",
     "output_type": "error",
     "traceback": [
      "\u001b[0;31m---------------------------------------------------------------------------\u001b[0m",
      "\u001b[0;31mKeyboardInterrupt\u001b[0m                         Traceback (most recent call last)",
      "\u001b[0;32m<ipython-input-83-6bc9b0fac67d>\u001b[0m in \u001b[0;36m<module>\u001b[0;34m\u001b[0m\n\u001b[0;32m----> 1\u001b[0;31m \u001b[0mcopula_gan_model\u001b[0m \u001b[0;34m=\u001b[0m \u001b[0mmake_CopulaGAN\u001b[0m\u001b[0;34m(\u001b[0m\u001b[0mtrain\u001b[0m\u001b[0;34m)\u001b[0m\u001b[0;34m\u001b[0m\u001b[0;34m\u001b[0m\u001b[0m\n\u001b[0m",
      "\u001b[0;32m<ipython-input-82-20ec175e7549>\u001b[0m in \u001b[0;36mmake_CopulaGAN\u001b[0;34m(data)\u001b[0m\n\u001b[1;32m      1\u001b[0m \u001b[0;32mdef\u001b[0m \u001b[0mmake_CopulaGAN\u001b[0m\u001b[0;34m(\u001b[0m\u001b[0mdata\u001b[0m\u001b[0;34m)\u001b[0m\u001b[0;34m:\u001b[0m\u001b[0;34m\u001b[0m\u001b[0;34m\u001b[0m\u001b[0m\n\u001b[1;32m      2\u001b[0m     \u001b[0mmodel\u001b[0m \u001b[0;34m=\u001b[0m \u001b[0mCopulaGAN\u001b[0m\u001b[0;34m(\u001b[0m\u001b[0;34m)\u001b[0m\u001b[0;34m\u001b[0m\u001b[0;34m\u001b[0m\u001b[0m\n\u001b[0;32m----> 3\u001b[0;31m     \u001b[0mmodel\u001b[0m\u001b[0;34m.\u001b[0m\u001b[0mfit\u001b[0m\u001b[0;34m(\u001b[0m\u001b[0mdata\u001b[0m\u001b[0;34m)\u001b[0m\u001b[0;34m\u001b[0m\u001b[0;34m\u001b[0m\u001b[0m\n\u001b[0m\u001b[1;32m      4\u001b[0m     \u001b[0;32mreturn\u001b[0m \u001b[0mmodel\u001b[0m\u001b[0;34m\u001b[0m\u001b[0;34m\u001b[0m\u001b[0m\n\u001b[1;32m      5\u001b[0m \u001b[0;32mdef\u001b[0m \u001b[0mmake_GaussianCopula\u001b[0m\u001b[0;34m(\u001b[0m\u001b[0mdata\u001b[0m\u001b[0;34m)\u001b[0m\u001b[0;34m:\u001b[0m\u001b[0;34m\u001b[0m\u001b[0;34m\u001b[0m\u001b[0m\n",
      "\u001b[0;32m/opt/cortex-installs/miniconda/envs/dai/lib/python3.6/site-packages/sdv/tabular/base.py\u001b[0m in \u001b[0;36mfit\u001b[0;34m(self, data)\u001b[0m\n\u001b[1;32m    118\u001b[0m             LOGGER.debug(\n\u001b[1;32m    119\u001b[0m                 'Fitting %s model to table %s', self.__class__.__name__, self._metadata.name)\n\u001b[0;32m--> 120\u001b[0;31m             \u001b[0mself\u001b[0m\u001b[0;34m.\u001b[0m\u001b[0m_fit\u001b[0m\u001b[0;34m(\u001b[0m\u001b[0mtransformed\u001b[0m\u001b[0;34m)\u001b[0m\u001b[0;34m\u001b[0m\u001b[0;34m\u001b[0m\u001b[0m\n\u001b[0m\u001b[1;32m    121\u001b[0m \u001b[0;34m\u001b[0m\u001b[0m\n\u001b[1;32m    122\u001b[0m     \u001b[0;32mdef\u001b[0m \u001b[0mget_metadata\u001b[0m\u001b[0;34m(\u001b[0m\u001b[0mself\u001b[0m\u001b[0;34m)\u001b[0m\u001b[0;34m:\u001b[0m\u001b[0;34m\u001b[0m\u001b[0;34m\u001b[0m\u001b[0m\n",
      "\u001b[0;32m/opt/cortex-installs/miniconda/envs/dai/lib/python3.6/site-packages/sdv/tabular/copulagan.py\u001b[0m in \u001b[0;36m_fit\u001b[0;34m(self, table_data)\u001b[0m\n\u001b[1;32m    198\u001b[0m         \u001b[0mtable_data\u001b[0m \u001b[0;34m=\u001b[0m \u001b[0mself\u001b[0m\u001b[0;34m.\u001b[0m\u001b[0m_ht\u001b[0m\u001b[0;34m.\u001b[0m\u001b[0mfit_transform\u001b[0m\u001b[0;34m(\u001b[0m\u001b[0mtable_data\u001b[0m\u001b[0;34m)\u001b[0m\u001b[0;34m\u001b[0m\u001b[0;34m\u001b[0m\u001b[0m\n\u001b[1;32m    199\u001b[0m \u001b[0;34m\u001b[0m\u001b[0m\n\u001b[0;32m--> 200\u001b[0;31m         \u001b[0msuper\u001b[0m\u001b[0;34m(\u001b[0m\u001b[0;34m)\u001b[0m\u001b[0;34m.\u001b[0m\u001b[0m_fit\u001b[0m\u001b[0;34m(\u001b[0m\u001b[0mtable_data\u001b[0m\u001b[0;34m)\u001b[0m\u001b[0;34m\u001b[0m\u001b[0;34m\u001b[0m\u001b[0m\n\u001b[0m\u001b[1;32m    201\u001b[0m \u001b[0;34m\u001b[0m\u001b[0m\n\u001b[1;32m    202\u001b[0m     \u001b[0;32mdef\u001b[0m \u001b[0m_sample\u001b[0m\u001b[0;34m(\u001b[0m\u001b[0mself\u001b[0m\u001b[0;34m,\u001b[0m \u001b[0mnum_rows\u001b[0m\u001b[0;34m,\u001b[0m \u001b[0mconditions\u001b[0m\u001b[0;34m=\u001b[0m\u001b[0;32mNone\u001b[0m\u001b[0;34m)\u001b[0m\u001b[0;34m:\u001b[0m\u001b[0;34m\u001b[0m\u001b[0;34m\u001b[0m\u001b[0m\n",
      "\u001b[0;32m/opt/cortex-installs/miniconda/envs/dai/lib/python3.6/site-packages/sdv/tabular/ctgan.py\u001b[0m in \u001b[0;36m_fit\u001b[0;34m(self, table_data)\u001b[0m\n\u001b[1;32m     51\u001b[0m         self._model.fit(\n\u001b[1;32m     52\u001b[0m             \u001b[0mtable_data\u001b[0m\u001b[0;34m,\u001b[0m\u001b[0;34m\u001b[0m\u001b[0;34m\u001b[0m\u001b[0m\n\u001b[0;32m---> 53\u001b[0;31m             \u001b[0mdiscrete_columns\u001b[0m\u001b[0;34m=\u001b[0m\u001b[0mcategoricals\u001b[0m\u001b[0;34m\u001b[0m\u001b[0;34m\u001b[0m\u001b[0m\n\u001b[0m\u001b[1;32m     54\u001b[0m         )\n\u001b[1;32m     55\u001b[0m \u001b[0;34m\u001b[0m\u001b[0m\n",
      "\u001b[0;32m/opt/cortex-installs/miniconda/envs/dai/lib/python3.6/site-packages/ctgan/synthesizers/ctgan.py\u001b[0m in \u001b[0;36mfit\u001b[0;34m(self, train_data, discrete_columns, epochs)\u001b[0m\n\u001b[1;32m    352\u001b[0m \u001b[0;34m\u001b[0m\u001b[0m\n\u001b[1;32m    353\u001b[0m                     \u001b[0mself\u001b[0m\u001b[0;34m.\u001b[0m\u001b[0m_optimizerD\u001b[0m\u001b[0;34m.\u001b[0m\u001b[0mzero_grad\u001b[0m\u001b[0;34m(\u001b[0m\u001b[0;34m)\u001b[0m\u001b[0;34m\u001b[0m\u001b[0;34m\u001b[0m\u001b[0m\n\u001b[0;32m--> 354\u001b[0;31m                     \u001b[0mpen\u001b[0m\u001b[0;34m.\u001b[0m\u001b[0mbackward\u001b[0m\u001b[0;34m(\u001b[0m\u001b[0mretain_graph\u001b[0m\u001b[0;34m=\u001b[0m\u001b[0;32mTrue\u001b[0m\u001b[0;34m)\u001b[0m\u001b[0;34m\u001b[0m\u001b[0;34m\u001b[0m\u001b[0m\n\u001b[0m\u001b[1;32m    355\u001b[0m                     \u001b[0mloss_d\u001b[0m\u001b[0;34m.\u001b[0m\u001b[0mbackward\u001b[0m\u001b[0;34m(\u001b[0m\u001b[0;34m)\u001b[0m\u001b[0;34m\u001b[0m\u001b[0;34m\u001b[0m\u001b[0m\n\u001b[1;32m    356\u001b[0m                     \u001b[0mself\u001b[0m\u001b[0;34m.\u001b[0m\u001b[0m_optimizerD\u001b[0m\u001b[0;34m.\u001b[0m\u001b[0mstep\u001b[0m\u001b[0;34m(\u001b[0m\u001b[0;34m)\u001b[0m\u001b[0;34m\u001b[0m\u001b[0;34m\u001b[0m\u001b[0m\n",
      "\u001b[0;32m/opt/cortex-installs/miniconda/envs/dai/lib/python3.6/site-packages/torch/tensor.py\u001b[0m in \u001b[0;36mbackward\u001b[0;34m(self, gradient, retain_graph, create_graph, inputs)\u001b[0m\n\u001b[1;32m    243\u001b[0m                 \u001b[0mcreate_graph\u001b[0m\u001b[0;34m=\u001b[0m\u001b[0mcreate_graph\u001b[0m\u001b[0;34m,\u001b[0m\u001b[0;34m\u001b[0m\u001b[0;34m\u001b[0m\u001b[0m\n\u001b[1;32m    244\u001b[0m                 inputs=inputs)\n\u001b[0;32m--> 245\u001b[0;31m         \u001b[0mtorch\u001b[0m\u001b[0;34m.\u001b[0m\u001b[0mautograd\u001b[0m\u001b[0;34m.\u001b[0m\u001b[0mbackward\u001b[0m\u001b[0;34m(\u001b[0m\u001b[0mself\u001b[0m\u001b[0;34m,\u001b[0m \u001b[0mgradient\u001b[0m\u001b[0;34m,\u001b[0m \u001b[0mretain_graph\u001b[0m\u001b[0;34m,\u001b[0m \u001b[0mcreate_graph\u001b[0m\u001b[0;34m,\u001b[0m \u001b[0minputs\u001b[0m\u001b[0;34m=\u001b[0m\u001b[0minputs\u001b[0m\u001b[0;34m)\u001b[0m\u001b[0;34m\u001b[0m\u001b[0;34m\u001b[0m\u001b[0m\n\u001b[0m\u001b[1;32m    246\u001b[0m \u001b[0;34m\u001b[0m\u001b[0m\n\u001b[1;32m    247\u001b[0m     \u001b[0;32mdef\u001b[0m \u001b[0mregister_hook\u001b[0m\u001b[0;34m(\u001b[0m\u001b[0mself\u001b[0m\u001b[0;34m,\u001b[0m \u001b[0mhook\u001b[0m\u001b[0;34m)\u001b[0m\u001b[0;34m:\u001b[0m\u001b[0;34m\u001b[0m\u001b[0;34m\u001b[0m\u001b[0m\n",
      "\u001b[0;32m/opt/cortex-installs/miniconda/envs/dai/lib/python3.6/site-packages/torch/autograd/__init__.py\u001b[0m in \u001b[0;36mbackward\u001b[0;34m(tensors, grad_tensors, retain_graph, create_graph, grad_variables, inputs)\u001b[0m\n\u001b[1;32m    145\u001b[0m     Variable._execution_engine.run_backward(\n\u001b[1;32m    146\u001b[0m         \u001b[0mtensors\u001b[0m\u001b[0;34m,\u001b[0m \u001b[0mgrad_tensors_\u001b[0m\u001b[0;34m,\u001b[0m \u001b[0mretain_graph\u001b[0m\u001b[0;34m,\u001b[0m \u001b[0mcreate_graph\u001b[0m\u001b[0;34m,\u001b[0m \u001b[0minputs\u001b[0m\u001b[0;34m,\u001b[0m\u001b[0;34m\u001b[0m\u001b[0;34m\u001b[0m\u001b[0m\n\u001b[0;32m--> 147\u001b[0;31m         allow_unreachable=True, accumulate_grad=True)  # allow_unreachable flag\n\u001b[0m\u001b[1;32m    148\u001b[0m \u001b[0;34m\u001b[0m\u001b[0m\n\u001b[1;32m    149\u001b[0m \u001b[0;34m\u001b[0m\u001b[0m\n",
      "\u001b[0;31mKeyboardInterrupt\u001b[0m: "
     ]
    }
   ],
   "source": [
    "copula_gan_model = make_CopulaGAN(train)"
   ]
  },
  {
   "cell_type": "code",
   "execution_count": null,
   "id": "detailed-alaska",
   "metadata": {},
   "outputs": [],
   "source": [
    "copula_gan_model.save('CopulaGAN.pkl')"
   ]
  },
  {
   "cell_type": "code",
   "execution_count": 30,
   "id": "union-warehouse",
   "metadata": {},
   "outputs": [],
   "source": [
    "guassian_copula_model = make_GaussianCopula(train)"
   ]
  },
  {
   "cell_type": "code",
   "execution_count": 31,
   "id": "empirical-phrase",
   "metadata": {},
   "outputs": [],
   "source": [
    "guassian_copula_model.save('GuassianCopulaModel.pkl')"
   ]
  },
  {
   "cell_type": "code",
   "execution_count": 32,
   "id": "representative-seventh",
   "metadata": {},
   "outputs": [],
   "source": [
    "ctgan_model = make_CTGAN(train)"
   ]
  },
  {
   "cell_type": "code",
   "execution_count": 33,
   "id": "major-potential",
   "metadata": {},
   "outputs": [],
   "source": [
    "ctgan_model.save(\"CTGAN-Model.pkl\")"
   ]
  },
  {
   "cell_type": "code",
   "execution_count": 34,
   "id": "czech-insurance",
   "metadata": {},
   "outputs": [],
   "source": [
    "tvae_model = make_TVAE(train)"
   ]
  },
  {
   "cell_type": "code",
   "execution_count": 35,
   "id": "biblical-antenna",
   "metadata": {},
   "outputs": [],
   "source": [
    "tvae_model.save(\"TVAE-Model.pkl\")"
   ]
  },
  {
   "cell_type": "code",
   "execution_count": 12,
   "id": "informal-velvet",
   "metadata": {},
   "outputs": [],
   "source": [
    "copula_gan_model = CopulaGAN.load('CopulaGAN.pkl')\n",
    "guassian_copula_model = GaussianCopula.load('GuassianCopulaModel.pkl')\n",
    "ctgan_model = CTGAN.load(\"CTGAN-Model.pkl\")\n",
    "tvae_model = TVAE.load(\"TVAE-Model.pkl\")"
   ]
  },
  {
   "cell_type": "code",
   "execution_count": null,
   "id": "material-roller",
   "metadata": {},
   "outputs": [],
   "source": [
    "#Issues, fix ordinal features issue\n",
    "#we examine ordinal feature distributions for synthetic data"
   ]
  },
  {
   "cell_type": "code",
   "execution_count": 89,
   "id": "innocent-genesis",
   "metadata": {},
   "outputs": [
    {
     "name": "stdout",
     "output_type": "stream",
     "text": [
      "4\n",
      "3\n",
      "0\n",
      "0\n",
      "[2 1 0 3 4]\n",
      "[0 1 2 3]\n",
      "StockOptionLevel\n"
     ]
    },
    {
     "data": {
      "text/plain": [
       "'copulas.univariate.student_t.StudentTUnivariate'"
      ]
     },
     "execution_count": 89,
     "metadata": {},
     "output_type": "execute_result"
    }
   ],
   "source": [
    "synth = copula_gan_model.sample(500)\n",
    "ordinal = list(ord_feats.keys())[0]\n",
    "print(synth[ordinal].max())\n",
    "print(train[ordinal].max())\n",
    "print(synth[ordinal].min())\n",
    "print(train[ordinal].min())\n",
    "print(synth[ordinal].unique())\n",
    "print(train[ordinal].unique())\n",
    "print(ordinal)\n",
    "copula_gan_model.get_distributions()[ordinal]"
   ]
  },
  {
   "cell_type": "code",
   "execution_count": 13,
   "id": "single-landscape",
   "metadata": {},
   "outputs": [],
   "source": [
    "models = [copula_gan_model, guassian_copula_model, ctgan_model, tvae_model]"
   ]
  },
  {
   "cell_type": "code",
   "execution_count": 43,
   "id": "opponent-training",
   "metadata": {},
   "outputs": [
    {
     "ename": "NameError",
     "evalue": "name 'score' is not defined",
     "output_type": "error",
     "traceback": [
      "\u001b[0;31m---------------------------------------------------------------------------\u001b[0m",
      "\u001b[0;31mNameError\u001b[0m                                 Traceback (most recent call last)",
      "\u001b[0;32m<ipython-input-43-4213b92bed6f>\u001b[0m in \u001b[0;36m<module>\u001b[0;34m\u001b[0m\n\u001b[1;32m      5\u001b[0m         \u001b[0msample_size_column\u001b[0m \u001b[0;34m=\u001b[0m \u001b[0;34m[\u001b[0m\u001b[0msample_size\u001b[0m\u001b[0;34m]\u001b[0m\u001b[0;34m\u001b[0m\u001b[0;34m\u001b[0m\u001b[0m\n\u001b[1;32m      6\u001b[0m         \u001b[0msynthetic_data\u001b[0m \u001b[0;34m=\u001b[0m \u001b[0mmodel\u001b[0m\u001b[0;34m.\u001b[0m\u001b[0msample\u001b[0m\u001b[0;34m(\u001b[0m\u001b[0msample_size\u001b[0m\u001b[0;34m)\u001b[0m\u001b[0;34m\u001b[0m\u001b[0;34m\u001b[0m\u001b[0m\n\u001b[0;32m----> 7\u001b[0;31m         \u001b[0mscore_aggregate\u001b[0m \u001b[0;34m=\u001b[0m \u001b[0mscore\u001b[0m\u001b[0;34m(\u001b[0m\u001b[0maggregate\u001b[0m\u001b[0;34m(\u001b[0m\u001b[0;34m)\u001b[0m\u001b[0;34m)\u001b[0m\u001b[0;34m\u001b[0m\u001b[0;34m\u001b[0m\u001b[0m\n\u001b[0m\u001b[1;32m      8\u001b[0m         \u001b[0mscore_column\u001b[0m \u001b[0;34m=\u001b[0m \u001b[0mmake_score_column\u001b[0m\u001b[0;34m(\u001b[0m\u001b[0mscore_aggregate\u001b[0m\u001b[0;34m)\u001b[0m\u001b[0;34m\u001b[0m\u001b[0;34m\u001b[0m\u001b[0m\n\u001b[1;32m      9\u001b[0m         \u001b[0mclassifier_setup\u001b[0m\u001b[0;34m(\u001b[0m\u001b[0msynth_data\u001b[0m\u001b[0;34m)\u001b[0m\u001b[0;34m\u001b[0m\u001b[0;34m\u001b[0m\u001b[0m\n",
      "\u001b[0;31mNameError\u001b[0m: name 'score' is not defined"
     ]
    }
   ],
   "source": [
    "count = 0\n",
    "for model in models:\n",
    "    model_column = [str(model)]\n",
    "    for sample_size in sample_sizes:\n",
    "        sample_size_column = [sample_size]\n",
    "        synthetic_data = model.sample(sample_size)\n",
    "        score_aggregate = score(aggregate=True\n",
    "        score_column = make_score_column(score_aggregate)\n",
    "        classifier_setup(synth_data)\n",
    "        for classifier_name in classifier_names:\n",
    "            classifier_column = [classifier_name]\n",
    "            classifier = create_model(classifier_name) # Create the catboost classifier\n",
    "            pred_holdout = predict_model(classifier)\n",
    "            performance_column = list(pred_holdout[\"F1\", \"Accuracy\", \"Recall\", \"Prec.\"])\n",
    "            results_row = model_column + sample_size_column + score_column + classifier_column + performance_column\n",
    "            results.append(results_row)\n",
    "            count+=1\n",
    "            print(count)\n",
    "            \n",
    "        \n",
    "        \n",
    "    "
   ]
  },
  {
   "cell_type": "code",
   "execution_count": 49,
   "id": "documentary-limitation",
   "metadata": {},
   "outputs": [
    {
     "name": "stdout",
     "output_type": "stream",
     "text": [
      "None\n"
     ]
    }
   ],
   "source": [
    "#get model\n",
    "model= models[0]\n",
    "model_column = [str(model)]\n",
    "#get sample size\n",
    "sample_size = sample_sizes[1]\n",
    "sample_size_column = [sample_size]\n",
    "#get synethetic data\n",
    "synthetic_data = model.sample(sample_size)\n",
    "\n",
    "#score synthetic data\n",
    "score_aggregate = evaluate(synthetic_data, train, aggregate=False)"
   ]
  },
  {
   "cell_type": "code",
   "execution_count": 51,
   "id": "becoming-affiliate",
   "metadata": {},
   "outputs": [
    {
     "name": "stdout",
     "output_type": "stream",
     "text": [
      "[-13.605347109454296, 0.13753052864846493, 0.0596058927142028, None, None, None, None, None, None, None, None, -4508.983407582633, 0.9625471296954762, 0.8354786324786325, 0.8672027210884353, 0.7421133825746776, 0.9114486339214659]\n"
     ]
    }
   ],
   "source": [
    "score_column = make_score_column(score_aggregate)\n",
    "print(score_column)"
   ]
  },
  {
   "cell_type": "code",
   "execution_count": 59,
   "id": "further-probe",
   "metadata": {},
   "outputs": [
    {
     "ename": "ValueError",
     "evalue": "Levels passed in ordinal_features param doesnt match with levels in data.",
     "output_type": "error",
     "traceback": [
      "\u001b[0;31m---------------------------------------------------------------------------\u001b[0m",
      "\u001b[0;31mValueError\u001b[0m                                Traceback (most recent call last)",
      "\u001b[0;32m<ipython-input-59-a04ad2605412>\u001b[0m in \u001b[0;36m<module>\u001b[0;34m\u001b[0m\n\u001b[1;32m      1\u001b[0m \u001b[0;31m#get classification performance\u001b[0m\u001b[0;34m\u001b[0m\u001b[0;34m\u001b[0m\u001b[0;34m\u001b[0m\u001b[0m\n\u001b[0;32m----> 2\u001b[0;31m \u001b[0mclassifier_setup\u001b[0m\u001b[0;34m(\u001b[0m\u001b[0msynthetic_data\u001b[0m\u001b[0;34m)\u001b[0m\u001b[0;34m\u001b[0m\u001b[0;34m\u001b[0m\u001b[0m\n\u001b[0m\u001b[1;32m      3\u001b[0m \u001b[0mprint\u001b[0m\u001b[0;34m(\u001b[0m\u001b[0;34m\"setup complete\"\u001b[0m\u001b[0;34m)\u001b[0m\u001b[0;34m\u001b[0m\u001b[0;34m\u001b[0m\u001b[0m\n",
      "\u001b[0;32m<ipython-input-58-5a1aa392f5e9>\u001b[0m in \u001b[0;36mclassifier_setup\u001b[0;34m(synth_data)\u001b[0m\n\u001b[1;32m     11\u001b[0m       \u001b[0mnormalize\u001b[0m \u001b[0;34m=\u001b[0m \u001b[0;32mTrue\u001b[0m\u001b[0;34m,\u001b[0m\u001b[0;34m\u001b[0m\u001b[0;34m\u001b[0m\u001b[0m\n\u001b[1;32m     12\u001b[0m       \u001b[0mnormalize_method\u001b[0m \u001b[0;34m=\u001b[0m \u001b[0;34m\"zscore\"\u001b[0m\u001b[0;34m,\u001b[0m\u001b[0;34m\u001b[0m\u001b[0;34m\u001b[0m\u001b[0m\n\u001b[0;32m---> 13\u001b[0;31m       silent = True, verbose = False)\n\u001b[0m\u001b[1;32m     14\u001b[0m \u001b[0mprint\u001b[0m\u001b[0;34m(\u001b[0m\u001b[0;34m\"setup complete!\"\u001b[0m\u001b[0;34m)\u001b[0m\u001b[0;34m\u001b[0m\u001b[0;34m\u001b[0m\u001b[0m\n",
      "\u001b[0;32m/opt/cortex-installs/miniconda/envs/dai/lib/python3.6/site-packages/pycaret/classification.py\u001b[0m in \u001b[0;36msetup\u001b[0;34m(data, target, train_size, test_data, preprocess, imputation_type, iterative_imputation_iters, categorical_features, categorical_imputation, categorical_iterative_imputer, ordinal_features, high_cardinality_features, high_cardinality_method, numeric_features, numeric_imputation, numeric_iterative_imputer, date_features, ignore_features, normalize, normalize_method, transformation, transformation_method, handle_unknown_categorical, unknown_categorical_method, pca, pca_method, pca_components, ignore_low_variance, combine_rare_levels, rare_level_threshold, bin_numeric_features, remove_outliers, outliers_threshold, remove_multicollinearity, multicollinearity_threshold, remove_perfect_collinearity, create_clusters, cluster_iter, polynomial_features, polynomial_degree, trigonometry_features, polynomial_threshold, group_features, group_names, feature_selection, feature_selection_threshold, feature_selection_method, feature_interaction, feature_ratio, interaction_threshold, fix_imbalance, fix_imbalance_method, data_split_shuffle, data_split_stratify, fold_strategy, fold, fold_shuffle, fold_groups, n_jobs, use_gpu, custom_pipeline, html, session_id, log_experiment, experiment_name, log_plots, log_profile, log_data, silent, verbose, profile, profile_kwargs)\u001b[0m\n\u001b[1;32m    652\u001b[0m         \u001b[0mverbose\u001b[0m\u001b[0;34m=\u001b[0m\u001b[0mverbose\u001b[0m\u001b[0;34m,\u001b[0m\u001b[0;34m\u001b[0m\u001b[0;34m\u001b[0m\u001b[0m\n\u001b[1;32m    653\u001b[0m         \u001b[0mprofile\u001b[0m\u001b[0;34m=\u001b[0m\u001b[0mprofile\u001b[0m\u001b[0;34m,\u001b[0m\u001b[0;34m\u001b[0m\u001b[0;34m\u001b[0m\u001b[0m\n\u001b[0;32m--> 654\u001b[0;31m         \u001b[0mprofile_kwargs\u001b[0m\u001b[0;34m=\u001b[0m\u001b[0mprofile_kwargs\u001b[0m\u001b[0;34m,\u001b[0m\u001b[0;34m\u001b[0m\u001b[0;34m\u001b[0m\u001b[0m\n\u001b[0m\u001b[1;32m    655\u001b[0m     )\n\u001b[1;32m    656\u001b[0m \u001b[0;34m\u001b[0m\u001b[0m\n",
      "\u001b[0;32m/opt/cortex-installs/miniconda/envs/dai/lib/python3.6/site-packages/pycaret/internal/tabular.py\u001b[0m in \u001b[0;36msetup\u001b[0;34m(data, target, ml_usecase, available_plots, train_size, test_data, preprocess, imputation_type, iterative_imputation_iters, categorical_features, categorical_imputation, categorical_iterative_imputer, ordinal_features, high_cardinality_features, high_cardinality_method, numeric_features, numeric_imputation, numeric_iterative_imputer, date_features, ignore_features, normalize, normalize_method, transformation, transformation_method, handle_unknown_categorical, unknown_categorical_method, pca, pca_method, pca_components, ignore_low_variance, combine_rare_levels, rare_level_threshold, bin_numeric_features, remove_outliers, outliers_threshold, remove_multicollinearity, multicollinearity_threshold, remove_perfect_collinearity, create_clusters, cluster_iter, polynomial_features, polynomial_degree, trigonometry_features, polynomial_threshold, group_features, group_names, feature_selection, feature_selection_threshold, feature_selection_method, feature_interaction, feature_ratio, interaction_threshold, fix_imbalance, fix_imbalance_method, transform_target, transform_target_method, data_split_shuffle, data_split_stratify, fold_strategy, fold, fold_shuffle, fold_groups, n_jobs, use_gpu, custom_pipeline, html, session_id, log_experiment, experiment_name, log_plots, log_profile, log_data, silent, verbose, profile, profile_kwargs, display)\u001b[0m\n\u001b[1;32m    377\u001b[0m             \u001b[0;32mif\u001b[0m \u001b[0mdata\u001b[0m\u001b[0;34m[\u001b[0m\u001b[0mk\u001b[0m\u001b[0;34m]\u001b[0m\u001b[0;34m.\u001b[0m\u001b[0mnunique\u001b[0m\u001b[0;34m(\u001b[0m\u001b[0;34m)\u001b[0m \u001b[0;34m!=\u001b[0m \u001b[0mlen\u001b[0m\u001b[0;34m(\u001b[0m\u001b[0mordinal_features\u001b[0m\u001b[0;34m[\u001b[0m\u001b[0mk\u001b[0m\u001b[0;34m]\u001b[0m\u001b[0;34m)\u001b[0m\u001b[0;34m:\u001b[0m\u001b[0;34m\u001b[0m\u001b[0;34m\u001b[0m\u001b[0m\n\u001b[1;32m    378\u001b[0m                 raise ValueError(\n\u001b[0;32m--> 379\u001b[0;31m                     \u001b[0;34m\"Levels passed in ordinal_features param doesnt match with levels in data.\"\u001b[0m\u001b[0;34m\u001b[0m\u001b[0;34m\u001b[0m\u001b[0m\n\u001b[0m\u001b[1;32m    380\u001b[0m                 )\n\u001b[1;32m    381\u001b[0m \u001b[0;34m\u001b[0m\u001b[0m\n",
      "\u001b[0;31mValueError\u001b[0m: Levels passed in ordinal_features param doesnt match with levels in data."
     ]
    }
   ],
   "source": [
    "#get classification performance\n",
    "classifier_setup(synthetic_data)\n",
    "print(\"setup complete\")"
   ]
  },
  {
   "cell_type": "code",
   "execution_count": 57,
   "id": "stuffed-tackle",
   "metadata": {},
   "outputs": [
    {
     "data": {
      "text/html": [
       "<style  type=\"text/css\" >\n",
       "#T_1e03f61a_9000_11eb_91a4_0e59de25da09row10_col0,#T_1e03f61a_9000_11eb_91a4_0e59de25da09row10_col1,#T_1e03f61a_9000_11eb_91a4_0e59de25da09row10_col2,#T_1e03f61a_9000_11eb_91a4_0e59de25da09row10_col3,#T_1e03f61a_9000_11eb_91a4_0e59de25da09row10_col4,#T_1e03f61a_9000_11eb_91a4_0e59de25da09row10_col5,#T_1e03f61a_9000_11eb_91a4_0e59de25da09row10_col6{\n",
       "            background:  yellow;\n",
       "        }</style><table id=\"T_1e03f61a_9000_11eb_91a4_0e59de25da09\" ><thead>    <tr>        <th class=\"blank level0\" ></th>        <th class=\"col_heading level0 col0\" >Accuracy</th>        <th class=\"col_heading level0 col1\" >AUC</th>        <th class=\"col_heading level0 col2\" >Recall</th>        <th class=\"col_heading level0 col3\" >Prec.</th>        <th class=\"col_heading level0 col4\" >F1</th>        <th class=\"col_heading level0 col5\" >Kappa</th>        <th class=\"col_heading level0 col6\" >MCC</th>    </tr></thead><tbody>\n",
       "                <tr>\n",
       "                        <th id=\"T_1e03f61a_9000_11eb_91a4_0e59de25da09level0_row0\" class=\"row_heading level0 row0\" >0</th>\n",
       "                        <td id=\"T_1e03f61a_9000_11eb_91a4_0e59de25da09row0_col0\" class=\"data row0 col0\" >0.8539</td>\n",
       "                        <td id=\"T_1e03f61a_9000_11eb_91a4_0e59de25da09row0_col1\" class=\"data row0 col1\" >0.8645</td>\n",
       "                        <td id=\"T_1e03f61a_9000_11eb_91a4_0e59de25da09row0_col2\" class=\"data row0 col2\" >0.5000</td>\n",
       "                        <td id=\"T_1e03f61a_9000_11eb_91a4_0e59de25da09row0_col3\" class=\"data row0 col3\" >0.7692</td>\n",
       "                        <td id=\"T_1e03f61a_9000_11eb_91a4_0e59de25da09row0_col4\" class=\"data row0 col4\" >0.6061</td>\n",
       "                        <td id=\"T_1e03f61a_9000_11eb_91a4_0e59de25da09row0_col5\" class=\"data row0 col5\" >0.5213</td>\n",
       "                        <td id=\"T_1e03f61a_9000_11eb_91a4_0e59de25da09row0_col6\" class=\"data row0 col6\" >0.5395</td>\n",
       "            </tr>\n",
       "            <tr>\n",
       "                        <th id=\"T_1e03f61a_9000_11eb_91a4_0e59de25da09level0_row1\" class=\"row_heading level0 row1\" >1</th>\n",
       "                        <td id=\"T_1e03f61a_9000_11eb_91a4_0e59de25da09row1_col0\" class=\"data row1 col0\" >0.8764</td>\n",
       "                        <td id=\"T_1e03f61a_9000_11eb_91a4_0e59de25da09row1_col1\" class=\"data row1 col1\" >0.7610</td>\n",
       "                        <td id=\"T_1e03f61a_9000_11eb_91a4_0e59de25da09row1_col2\" class=\"data row1 col2\" >0.3571</td>\n",
       "                        <td id=\"T_1e03f61a_9000_11eb_91a4_0e59de25da09row1_col3\" class=\"data row1 col3\" >0.7143</td>\n",
       "                        <td id=\"T_1e03f61a_9000_11eb_91a4_0e59de25da09row1_col4\" class=\"data row1 col4\" >0.4762</td>\n",
       "                        <td id=\"T_1e03f61a_9000_11eb_91a4_0e59de25da09row1_col5\" class=\"data row1 col5\" >0.4148</td>\n",
       "                        <td id=\"T_1e03f61a_9000_11eb_91a4_0e59de25da09row1_col6\" class=\"data row1 col6\" >0.4470</td>\n",
       "            </tr>\n",
       "            <tr>\n",
       "                        <th id=\"T_1e03f61a_9000_11eb_91a4_0e59de25da09level0_row2\" class=\"row_heading level0 row2\" >2</th>\n",
       "                        <td id=\"T_1e03f61a_9000_11eb_91a4_0e59de25da09row2_col0\" class=\"data row2 col0\" >0.8523</td>\n",
       "                        <td id=\"T_1e03f61a_9000_11eb_91a4_0e59de25da09row2_col1\" class=\"data row2 col1\" >0.7439</td>\n",
       "                        <td id=\"T_1e03f61a_9000_11eb_91a4_0e59de25da09row2_col2\" class=\"data row2 col2\" >0.4375</td>\n",
       "                        <td id=\"T_1e03f61a_9000_11eb_91a4_0e59de25da09row2_col3\" class=\"data row2 col3\" >0.6364</td>\n",
       "                        <td id=\"T_1e03f61a_9000_11eb_91a4_0e59de25da09row2_col4\" class=\"data row2 col4\" >0.5185</td>\n",
       "                        <td id=\"T_1e03f61a_9000_11eb_91a4_0e59de25da09row2_col5\" class=\"data row2 col5\" >0.4348</td>\n",
       "                        <td id=\"T_1e03f61a_9000_11eb_91a4_0e59de25da09row2_col6\" class=\"data row2 col6\" >0.4454</td>\n",
       "            </tr>\n",
       "            <tr>\n",
       "                        <th id=\"T_1e03f61a_9000_11eb_91a4_0e59de25da09level0_row3\" class=\"row_heading level0 row3\" >3</th>\n",
       "                        <td id=\"T_1e03f61a_9000_11eb_91a4_0e59de25da09row3_col0\" class=\"data row3 col0\" >0.8295</td>\n",
       "                        <td id=\"T_1e03f61a_9000_11eb_91a4_0e59de25da09row3_col1\" class=\"data row3 col1\" >0.8252</td>\n",
       "                        <td id=\"T_1e03f61a_9000_11eb_91a4_0e59de25da09row3_col2\" class=\"data row3 col2\" >0.3529</td>\n",
       "                        <td id=\"T_1e03f61a_9000_11eb_91a4_0e59de25da09row3_col3\" class=\"data row3 col3\" >0.6000</td>\n",
       "                        <td id=\"T_1e03f61a_9000_11eb_91a4_0e59de25da09row3_col4\" class=\"data row3 col4\" >0.4444</td>\n",
       "                        <td id=\"T_1e03f61a_9000_11eb_91a4_0e59de25da09row3_col5\" class=\"data row3 col5\" >0.3517</td>\n",
       "                        <td id=\"T_1e03f61a_9000_11eb_91a4_0e59de25da09row3_col6\" class=\"data row3 col6\" >0.3690</td>\n",
       "            </tr>\n",
       "            <tr>\n",
       "                        <th id=\"T_1e03f61a_9000_11eb_91a4_0e59de25da09level0_row4\" class=\"row_heading level0 row4\" >4</th>\n",
       "                        <td id=\"T_1e03f61a_9000_11eb_91a4_0e59de25da09row4_col0\" class=\"data row4 col0\" >0.8295</td>\n",
       "                        <td id=\"T_1e03f61a_9000_11eb_91a4_0e59de25da09row4_col1\" class=\"data row4 col1\" >0.8770</td>\n",
       "                        <td id=\"T_1e03f61a_9000_11eb_91a4_0e59de25da09row4_col2\" class=\"data row4 col2\" >0.4286</td>\n",
       "                        <td id=\"T_1e03f61a_9000_11eb_91a4_0e59de25da09row4_col3\" class=\"data row4 col3\" >0.7500</td>\n",
       "                        <td id=\"T_1e03f61a_9000_11eb_91a4_0e59de25da09row4_col4\" class=\"data row4 col4\" >0.5455</td>\n",
       "                        <td id=\"T_1e03f61a_9000_11eb_91a4_0e59de25da09row4_col5\" class=\"data row4 col5\" >0.4500</td>\n",
       "                        <td id=\"T_1e03f61a_9000_11eb_91a4_0e59de25da09row4_col6\" class=\"data row4 col6\" >0.4767</td>\n",
       "            </tr>\n",
       "            <tr>\n",
       "                        <th id=\"T_1e03f61a_9000_11eb_91a4_0e59de25da09level0_row5\" class=\"row_heading level0 row5\" >5</th>\n",
       "                        <td id=\"T_1e03f61a_9000_11eb_91a4_0e59de25da09row5_col0\" class=\"data row5 col0\" >0.8864</td>\n",
       "                        <td id=\"T_1e03f61a_9000_11eb_91a4_0e59de25da09row5_col1\" class=\"data row5 col1\" >0.9119</td>\n",
       "                        <td id=\"T_1e03f61a_9000_11eb_91a4_0e59de25da09row5_col2\" class=\"data row5 col2\" >0.6667</td>\n",
       "                        <td id=\"T_1e03f61a_9000_11eb_91a4_0e59de25da09row5_col3\" class=\"data row5 col3\" >0.7500</td>\n",
       "                        <td id=\"T_1e03f61a_9000_11eb_91a4_0e59de25da09row5_col4\" class=\"data row5 col4\" >0.7059</td>\n",
       "                        <td id=\"T_1e03f61a_9000_11eb_91a4_0e59de25da09row5_col5\" class=\"data row5 col5\" >0.6358</td>\n",
       "                        <td id=\"T_1e03f61a_9000_11eb_91a4_0e59de25da09row5_col6\" class=\"data row5 col6\" >0.6375</td>\n",
       "            </tr>\n",
       "            <tr>\n",
       "                        <th id=\"T_1e03f61a_9000_11eb_91a4_0e59de25da09level0_row6\" class=\"row_heading level0 row6\" >6</th>\n",
       "                        <td id=\"T_1e03f61a_9000_11eb_91a4_0e59de25da09row6_col0\" class=\"data row6 col0\" >0.8750</td>\n",
       "                        <td id=\"T_1e03f61a_9000_11eb_91a4_0e59de25da09row6_col1\" class=\"data row6 col1\" >0.9035</td>\n",
       "                        <td id=\"T_1e03f61a_9000_11eb_91a4_0e59de25da09row6_col2\" class=\"data row6 col2\" >0.3571</td>\n",
       "                        <td id=\"T_1e03f61a_9000_11eb_91a4_0e59de25da09row6_col3\" class=\"data row6 col3\" >0.7143</td>\n",
       "                        <td id=\"T_1e03f61a_9000_11eb_91a4_0e59de25da09row6_col4\" class=\"data row6 col4\" >0.4762</td>\n",
       "                        <td id=\"T_1e03f61a_9000_11eb_91a4_0e59de25da09row6_col5\" class=\"data row6 col5\" >0.4140</td>\n",
       "                        <td id=\"T_1e03f61a_9000_11eb_91a4_0e59de25da09row6_col6\" class=\"data row6 col6\" >0.4462</td>\n",
       "            </tr>\n",
       "            <tr>\n",
       "                        <th id=\"T_1e03f61a_9000_11eb_91a4_0e59de25da09level0_row7\" class=\"row_heading level0 row7\" >7</th>\n",
       "                        <td id=\"T_1e03f61a_9000_11eb_91a4_0e59de25da09row7_col0\" class=\"data row7 col0\" >0.8864</td>\n",
       "                        <td id=\"T_1e03f61a_9000_11eb_91a4_0e59de25da09row7_col1\" class=\"data row7 col1\" >0.8235</td>\n",
       "                        <td id=\"T_1e03f61a_9000_11eb_91a4_0e59de25da09row7_col2\" class=\"data row7 col2\" >0.4167</td>\n",
       "                        <td id=\"T_1e03f61a_9000_11eb_91a4_0e59de25da09row7_col3\" class=\"data row7 col3\" >0.6250</td>\n",
       "                        <td id=\"T_1e03f61a_9000_11eb_91a4_0e59de25da09row7_col4\" class=\"data row7 col4\" >0.5000</td>\n",
       "                        <td id=\"T_1e03f61a_9000_11eb_91a4_0e59de25da09row7_col5\" class=\"data row7 col5\" >0.4388</td>\n",
       "                        <td id=\"T_1e03f61a_9000_11eb_91a4_0e59de25da09row7_col6\" class=\"data row7 col6\" >0.4503</td>\n",
       "            </tr>\n",
       "            <tr>\n",
       "                        <th id=\"T_1e03f61a_9000_11eb_91a4_0e59de25da09level0_row8\" class=\"row_heading level0 row8\" >8</th>\n",
       "                        <td id=\"T_1e03f61a_9000_11eb_91a4_0e59de25da09row8_col0\" class=\"data row8 col0\" >0.8636</td>\n",
       "                        <td id=\"T_1e03f61a_9000_11eb_91a4_0e59de25da09row8_col1\" class=\"data row8 col1\" >0.8123</td>\n",
       "                        <td id=\"T_1e03f61a_9000_11eb_91a4_0e59de25da09row8_col2\" class=\"data row8 col2\" >0.3846</td>\n",
       "                        <td id=\"T_1e03f61a_9000_11eb_91a4_0e59de25da09row8_col3\" class=\"data row8 col3\" >0.5556</td>\n",
       "                        <td id=\"T_1e03f61a_9000_11eb_91a4_0e59de25da09row8_col4\" class=\"data row8 col4\" >0.4545</td>\n",
       "                        <td id=\"T_1e03f61a_9000_11eb_91a4_0e59de25da09row8_col5\" class=\"data row8 col5\" >0.3796</td>\n",
       "                        <td id=\"T_1e03f61a_9000_11eb_91a4_0e59de25da09row8_col6\" class=\"data row8 col6\" >0.3879</td>\n",
       "            </tr>\n",
       "            <tr>\n",
       "                        <th id=\"T_1e03f61a_9000_11eb_91a4_0e59de25da09level0_row9\" class=\"row_heading level0 row9\" >9</th>\n",
       "                        <td id=\"T_1e03f61a_9000_11eb_91a4_0e59de25da09row9_col0\" class=\"data row9 col0\" >0.9205</td>\n",
       "                        <td id=\"T_1e03f61a_9000_11eb_91a4_0e59de25da09row9_col1\" class=\"data row9 col1\" >0.7993</td>\n",
       "                        <td id=\"T_1e03f61a_9000_11eb_91a4_0e59de25da09row9_col2\" class=\"data row9 col2\" >0.5455</td>\n",
       "                        <td id=\"T_1e03f61a_9000_11eb_91a4_0e59de25da09row9_col3\" class=\"data row9 col3\" >0.7500</td>\n",
       "                        <td id=\"T_1e03f61a_9000_11eb_91a4_0e59de25da09row9_col4\" class=\"data row9 col4\" >0.6316</td>\n",
       "                        <td id=\"T_1e03f61a_9000_11eb_91a4_0e59de25da09row9_col5\" class=\"data row9 col5\" >0.5882</td>\n",
       "                        <td id=\"T_1e03f61a_9000_11eb_91a4_0e59de25da09row9_col6\" class=\"data row9 col6\" >0.5976</td>\n",
       "            </tr>\n",
       "            <tr>\n",
       "                        <th id=\"T_1e03f61a_9000_11eb_91a4_0e59de25da09level0_row10\" class=\"row_heading level0 row10\" >Mean</th>\n",
       "                        <td id=\"T_1e03f61a_9000_11eb_91a4_0e59de25da09row10_col0\" class=\"data row10 col0\" >0.8674</td>\n",
       "                        <td id=\"T_1e03f61a_9000_11eb_91a4_0e59de25da09row10_col1\" class=\"data row10 col1\" >0.8322</td>\n",
       "                        <td id=\"T_1e03f61a_9000_11eb_91a4_0e59de25da09row10_col2\" class=\"data row10 col2\" >0.4447</td>\n",
       "                        <td id=\"T_1e03f61a_9000_11eb_91a4_0e59de25da09row10_col3\" class=\"data row10 col3\" >0.6865</td>\n",
       "                        <td id=\"T_1e03f61a_9000_11eb_91a4_0e59de25da09row10_col4\" class=\"data row10 col4\" >0.5359</td>\n",
       "                        <td id=\"T_1e03f61a_9000_11eb_91a4_0e59de25da09row10_col5\" class=\"data row10 col5\" >0.4629</td>\n",
       "                        <td id=\"T_1e03f61a_9000_11eb_91a4_0e59de25da09row10_col6\" class=\"data row10 col6\" >0.4797</td>\n",
       "            </tr>\n",
       "            <tr>\n",
       "                        <th id=\"T_1e03f61a_9000_11eb_91a4_0e59de25da09level0_row11\" class=\"row_heading level0 row11\" >SD</th>\n",
       "                        <td id=\"T_1e03f61a_9000_11eb_91a4_0e59de25da09row11_col0\" class=\"data row11 col0\" >0.0264</td>\n",
       "                        <td id=\"T_1e03f61a_9000_11eb_91a4_0e59de25da09row11_col1\" class=\"data row11 col1\" >0.0538</td>\n",
       "                        <td id=\"T_1e03f61a_9000_11eb_91a4_0e59de25da09row11_col2\" class=\"data row11 col2\" >0.0954</td>\n",
       "                        <td id=\"T_1e03f61a_9000_11eb_91a4_0e59de25da09row11_col3\" class=\"data row11 col3\" >0.0717</td>\n",
       "                        <td id=\"T_1e03f61a_9000_11eb_91a4_0e59de25da09row11_col4\" class=\"data row11 col4\" >0.0817</td>\n",
       "                        <td id=\"T_1e03f61a_9000_11eb_91a4_0e59de25da09row11_col5\" class=\"data row11 col5\" >0.0863</td>\n",
       "                        <td id=\"T_1e03f61a_9000_11eb_91a4_0e59de25da09row11_col6\" class=\"data row11 col6\" >0.0820</td>\n",
       "            </tr>\n",
       "    </tbody></table>"
      ],
      "text/plain": [
       "<pandas.io.formats.style.Styler at 0x7f7e85fe5f60>"
      ]
     },
     "metadata": {},
     "output_type": "display_data"
    },
    {
     "name": "stdout",
     "output_type": "stream",
     "text": [
      "prediction done\n"
     ]
    }
   ],
   "source": [
    "classifier_name = classifiers[0]\n",
    "classifier_column = [classifier_name]\n",
    "classifier = create_model(classifier_name) # Create the catboost classifier\n",
    "pred_holdout = predict_model(classifier, verbose=False)\n",
    "print('prediction done')"
   ]
  },
  {
   "cell_type": "code",
   "execution_count": null,
   "id": "romantic-optics",
   "metadata": {},
   "outputs": [],
   "source": [
    "print(pred_holdout)\n",
    "performance_column = list(pred_holdout[\"F1\", \"Accuracy\", \"Recall\", \"Prec.\"])\n",
    "results_row = model_column + sample_size_column + score_column + classifier_column + performance_column\n",
    "results.append(results_row)\n",
    "print(results_row)"
   ]
  },
  {
   "cell_type": "code",
   "execution_count": null,
   "id": "interstate-winning",
   "metadata": {},
   "outputs": [],
   "source": []
  },
  {
   "cell_type": "code",
   "execution_count": 36,
   "id": "convenient-taylor",
   "metadata": {},
   "outputs": [
    {
     "name": "stdout",
     "output_type": "stream",
     "text": [
      "['model_name', 'sample_size', 'BNLogLikelihood', 'LogisticDetection', 'SVCDetection', 'BinaryDecisionTreeClassifier', 'BinaryAdaBoostClassifier', 'BinaryLogisticRegression', 'BinaryMLPClassifier', 'MulticlassDecisionTreeClassifier', 'MulticlassMLPClassifier', 'LinearRegression', 'MLPRegressor', 'GMLogLikelihood', 'CSTest', 'KSTest', 'KSTestExtended', 'ContinuousKLDivergence', 'DiscreteKLDivergence', 'classifier_name', 'f1', 'accuracy', 'recall', 'precision']\n"
     ]
    }
   ],
   "source": []
  },
  {
   "cell_type": "code",
   "execution_count": null,
   "id": "difficult-letters",
   "metadata": {},
   "outputs": [],
   "source": []
  }
 ],
 "metadata": {
  "kernelspec": {
   "display_name": "dai",
   "language": "python",
   "name": "dai"
  },
  "language_info": {
   "codemirror_mode": {
    "name": "ipython",
    "version": 3
   },
   "file_extension": ".py",
   "mimetype": "text/x-python",
   "name": "python",
   "nbconvert_exporter": "python",
   "pygments_lexer": "ipython3",
   "version": "3.6.13"
  }
 },
 "nbformat": 4,
 "nbformat_minor": 5
}
